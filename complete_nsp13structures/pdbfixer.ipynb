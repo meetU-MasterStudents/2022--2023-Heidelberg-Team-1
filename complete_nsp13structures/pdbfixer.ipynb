{
 "cells": [
  {
   "cell_type": "code",
   "execution_count": 2,
   "metadata": {},
   "outputs": [],
   "source": [
    "from pdbfixer import PDBFixer\n",
    "from openmm.app import PDBFile\n",
    "from openmm.app import Modeller\n",
    "fixer = PDBFixer(filename='6zsl.pdb')"
   ]
  },
  {
   "cell_type": "code",
   "execution_count": 3,
   "metadata": {},
   "outputs": [
    {
     "name": "stderr",
     "output_type": "stream",
     "text": [
      "Warning: importing 'simtk.openmm' is deprecated.  Import 'openmm' instead.\n"
     ]
    }
   ],
   "source": [
    "pdbs = [\"6zsl.pdb\", \"7nn0.pdb\", \"7nio.pdb\", \"5rm2.pdb\", \"5rme.pdb\"]\n",
    "\n",
    "for pdb in pdbs:\n",
    "    fixer = PDBFixer(filename=pdb)\n",
    "    fixer.findMissingResidues()\n",
    "    fixer.findMissingAtoms()\n",
    "    fixer.addMissingAtoms()\n",
    "    #fixer.addMissingHydrogens(7.0) # not needed pdb2gmx will add them\n",
    "    modeller = Modeller(fixer.topology, fixer.positions)\n",
    "    modeller.deleteWater()\n",
    "    PDBFile.writeFile(modeller.topology, modeller.positions, open(f\"{pdb.split('.')[0]}_pdbfixer.pdb\", \"w\"))\n",
    "\n"
   ]
  }
 ],
 "metadata": {
  "kernelspec": {
   "display_name": "vina",
   "language": "python",
   "name": "python3"
  },
  "language_info": {
   "codemirror_mode": {
    "name": "ipython",
    "version": 3
   },
   "file_extension": ".py",
   "mimetype": "text/x-python",
   "name": "python",
   "nbconvert_exporter": "python",
   "pygments_lexer": "ipython3",
   "version": "3.10.8"
  },
  "orig_nbformat": 4,
  "vscode": {
   "interpreter": {
    "hash": "cc0db0d5c6d8d3d4138967e225801985748a69f1392fffb1eaa6bf6fba89dcb9"
   }
  }
 },
 "nbformat": 4,
 "nbformat_minor": 2
}
